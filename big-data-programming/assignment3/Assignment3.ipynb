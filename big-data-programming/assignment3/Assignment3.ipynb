{
 "cells": [
  {
   "cell_type": "code",
   "execution_count": 1,
   "id": "c7049ee9",
   "metadata": {},
   "outputs": [],
   "source": [
    "import findspark\n",
    "findspark.init()\n",
    "\n",
    "from tokenize import String\n",
    "import pyspark\n",
    "from pyspark.context import SparkContext\n",
    "from pyspark import SparkConf\n",
    "from pyspark.sql import SparkSession, SQLContext, Row\n",
    "from pyspark.sql.functions import *\n",
    "import json\n",
    "import os"
   ]
  },
  {
   "cell_type": "code",
   "execution_count": 2,
   "id": "593b56ea-fa0e-45a6-a2b4-6ec018c7dd6d",
   "metadata": {},
   "outputs": [
    {
     "name": "stdout",
     "output_type": "stream",
     "text": [
      "22/11/10 20:43:38 WARN Utils: Your hostname, razer-arch resolves to a loopback address: 127.0.1.1; using 10.0.0.243 instead (on interface wlo1)\n",
      "22/11/10 20:43:38 WARN Utils: Set SPARK_LOCAL_IP if you need to bind to another address\n"
     ]
    },
    {
     "name": "stderr",
     "output_type": "stream",
     "text": [
      "Setting default log level to \"WARN\".\n",
      "To adjust logging level use sc.setLogLevel(newLevel). For SparkR, use setLogLevel(newLevel).\n"
     ]
    }
   ],
   "source": [
    "conf = SparkConf()\n",
    "sc = SparkContext(conf=conf)\n",
    "sc.setLogLevel(\"ERROR\")"
   ]
  },
  {
   "cell_type": "code",
   "execution_count": 3,
   "id": "3b9c4645-acea-4cff-9dcc-8de3ef8525b8",
   "metadata": {},
   "outputs": [],
   "source": [
    "spark = (\n",
    "    SparkSession.builder.appName(\"Phone Book - Country Look up\")\n",
    "    .config(\"spark.some.config.option\", \"some-value\")\n",
    "    .config(\"spark.sql.caseSensitive\", \"false\")\n",
    "    .getOrCreate()\n",
    ")\n",
    "spark.conf.set(\"spark.sql.caseSensitive\", False)"
   ]
  },
  {
   "cell_type": "code",
   "execution_count": 4,
   "id": "6baf517e-5789-4ddf-9dba-77a80468b79e",
   "metadata": {},
   "outputs": [
    {
     "name": "stdout",
     "output_type": "stream",
     "text": [
      "+-------------+--------------------+-------+\n",
      "|          geo|               tweet|   user|\n",
      "+-------------+--------------------+-------+\n",
      "|      Atlanta|  It is a sunny day!|    Bob|\n",
      "|       Athens|We have a footbal...|  Susan|\n",
      "|      Atlanta|      Today is cold.|  David|\n",
      "|       Auburn|I love Auburn Uni...|   Lisa|\n",
      "|   Birmingham|I will go to Atla...|    Ben|\n",
      "|San Francisco|We watch a movie ...|   Paul|\n",
      "|    San Diego|It is hot today. ...|  Smith|\n",
      "|  Log Angeles|Oscar ceremony is...|  Ethan|\n",
      "|  Log Angeles|I love Oscar cere...|   Emma|\n",
      "|      Orlando|I will go to the ...|Rolando|\n",
      "|        Miami|          Sunny Day!|    Mia|\n",
      "+-------------+--------------------+-------+\n",
      "\n",
      "+-------------+----------+\n",
      "|         city|     state|\n",
      "+-------------+----------+\n",
      "|      Atlanta|   Georgia|\n",
      "|       Athens|   Georgia|\n",
      "|        Miami|   Florida|\n",
      "|      Orlando|   Florida|\n",
      "|   Birmingham|   Alabama|\n",
      "|       Auburn|   Alabama|\n",
      "|  Log Angeles|California|\n",
      "|San Francisco|California|\n",
      "|    San Diego|California|\n",
      "+-------------+----------+\n",
      "\n"
     ]
    }
   ],
   "source": [
    "DF2 = spark.read.json(\"cityStateMap.json\")\n",
    "DF1 = spark.read.json(\"tweets.json\")\n",
    "\n",
    "DF1.show()\n",
    "DF2.show()"
   ]
  },
  {
   "cell_type": "code",
   "execution_count": 5,
   "id": "71ba0998-530d-4426-ab3b-b51a009fa3e6",
   "metadata": {},
   "outputs": [
    {
     "name": "stdout",
     "output_type": "stream",
     "text": [
      "+------------------+-------+\n",
      "|             tweet|    geo|\n",
      "+------------------+-------+\n",
      "|It is a sunny day!|Atlanta|\n",
      "|    Today is cold.|Atlanta|\n",
      "+------------------+-------+\n",
      "\n"
     ]
    }
   ],
   "source": [
    "# 1) print only tweets from atlanta\n",
    "# used filter here, to verify it geo is atlanta and\n",
    "# then used select function for displaying only tweet.\n",
    "DF3 = DF1.filter(\"geo == 'Atlanta'\").select([\"tweet\", \"geo\"]).show()"
   ]
  },
  {
   "cell_type": "code",
   "execution_count": 6,
   "id": "1adfc87d-314e-43ed-8cea-989cb21a48ad",
   "metadata": {},
   "outputs": [
    {
     "name": "stdout",
     "output_type": "stream",
     "text": [
      "+-------------+--------------------+-----+\n",
      "|          geo|               tweet| user|\n",
      "+-------------+--------------------+-----+\n",
      "|       Athens|We have a footbal...|Susan|\n",
      "|      Atlanta|      Today is cold.|David|\n",
      "|   Birmingham|I will go to Atla...|  Ben|\n",
      "|San Francisco|We watch a movie ...| Paul|\n",
      "|    San Diego|It is hot today. ...|Smith|\n",
      "+-------------+--------------------+-----+\n",
      "\n"
     ]
    }
   ],
   "source": [
    "# 2) print only tweets that contain the word \"today\"\n",
    "DF5 = DF1.filter((DF1.tweet.contains(\"today\")) | (DF1.tweet.contains(\"Today\"))).show()"
   ]
  },
  {
   "cell_type": "code",
   "execution_count": 7,
   "id": "f1bcc0e3-8fb1-4e88-872c-f725354d9359",
   "metadata": {},
   "outputs": [
    {
     "name": "stdout",
     "output_type": "stream",
     "text": [
      "+-------------+--------------------+-------+----------+\n",
      "|          geo|               tweet|   user|     state|\n",
      "+-------------+--------------------+-------+----------+\n",
      "|      Atlanta|  It is a sunny day!|    Bob|   Georgia|\n",
      "|       Athens|We have a footbal...|  Susan|   Georgia|\n",
      "|      Atlanta|      Today is cold.|  David|   Georgia|\n",
      "|       Auburn|I love Auburn Uni...|   Lisa|   Alabama|\n",
      "|   Birmingham|I will go to Atla...|    Ben|   Alabama|\n",
      "|San Francisco|We watch a movie ...|   Paul|California|\n",
      "|    San Diego|It is hot today. ...|  Smith|California|\n",
      "|  Log Angeles|Oscar ceremony is...|  Ethan|California|\n",
      "|  Log Angeles|I love Oscar cere...|   Emma|California|\n",
      "|      Orlando|I will go to the ...|Rolando|   Florida|\n",
      "|        Miami|          Sunny Day!|    Mia|   Florida|\n",
      "+-------------+--------------------+-------+----------+\n",
      "\n",
      "+--------------------+----------+\n",
      "|               tweet|     state|\n",
      "+--------------------+----------+\n",
      "|We watch a movie ...|California|\n",
      "|It is hot today. ...|California|\n",
      "|Oscar ceremony is...|California|\n",
      "|I love Oscar cere...|California|\n",
      "+--------------------+----------+\n",
      "\n"
     ]
    }
   ],
   "source": [
    "# 3) Print only tweets from california\n",
    "# first join is used, as state is in DF2.\n",
    "# and then as geo and city are same, dropped a column,\n",
    "# and now used filter to check if state is california and then displayed only tweet column\n",
    "DF1.join(DF2, DF1.geo == DF2.city, \"inner\").drop(DF2.city).show()\n",
    "DF6 = DF1.join(DF2, DF1.geo == DF2.city, \"inner\").drop(DF2.city)\n",
    "DF6.filter(\"state == 'California'\").select([\"tweet\", \"state\"]).show()"
   ]
  },
  {
   "cell_type": "code",
   "execution_count": 8,
   "id": "0961ee20-d258-43a8-92f0-c34a5091172e",
   "metadata": {},
   "outputs": [
    {
     "name": "stdout",
     "output_type": "stream",
     "text": [
      "+----------+-----+\n",
      "|     state|count|\n",
      "+----------+-----+\n",
      "|   Georgia|    3|\n",
      "|   Alabama|    2|\n",
      "|   Florida|    2|\n",
      "|California|    4|\n",
      "+----------+-----+\n",
      "\n"
     ]
    }
   ],
   "source": [
    "# 4) Count the number of tweets published in each state.\n",
    "# it is required to count the tweets, so we need to group by state to get count\n",
    "DF8 = DF6.groupBy(\"state\").count().show()"
   ]
  }
 ],
 "metadata": {
  "kernelspec": {
   "display_name": "Python 3 (ipykernel)",
   "language": "python",
   "name": "python3"
  },
  "language_info": {
   "codemirror_mode": {
    "name": "ipython",
    "version": 3
   },
   "file_extension": ".py",
   "mimetype": "text/x-python",
   "name": "python",
   "nbconvert_exporter": "python",
   "pygments_lexer": "ipython3",
   "version": "3.10.8"
  }
 },
 "nbformat": 4,
 "nbformat_minor": 5
}
